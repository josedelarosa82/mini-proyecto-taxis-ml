{
 "cells": [
  {
   "cell_type": "markdown",
   "id": "ee2dedbc-a107-4875-9b03-ceb5b3feee2c",
   "metadata": {},
   "source": [
    "\n",
    "https://registry.opendata.aws/nyc-tlc-trip-records-pds/"
   ]
  },
  {
   "cell_type": "code",
   "execution_count": null,
   "id": "c1b5dd15-664d-42f8-b385-c2b56cb61793",
   "metadata": {},
   "outputs": [],
   "source": [
    "sc"
   ]
  },
  {
   "cell_type": "code",
   "execution_count": 56,
   "id": "fd91dba1-e5ae-486e-a503-80f12902c57a",
   "metadata": {
    "execution": {
     "iopub.execute_input": "2022-10-15T01:40:35.448234Z",
     "iopub.status.busy": "2022-10-15T01:40:35.448012Z",
     "iopub.status.idle": "2022-10-15T01:40:35.716298Z",
     "shell.execute_reply": "2022-10-15T01:40:35.715643Z",
     "shell.execute_reply.started": "2022-10-15T01:40:35.448210Z"
    },
    "tags": []
   },
   "outputs": [
    {
     "data": {
      "application/vnd.jupyter.widget-view+json": {
       "model_id": "f2425dfe693649c8a6e30d0f6a91a8ce",
       "version_major": 2,
       "version_minor": 0
      },
      "text/plain": [
       "VBox()"
      ]
     },
     "metadata": {},
     "output_type": "display_data"
    },
    {
     "data": {
      "application/vnd.jupyter.widget-view+json": {
       "model_id": "",
       "version_major": 2,
       "version_minor": 0
      },
      "text/plain": [
       "FloatProgress(value=0.0, bar_style='info', description='Progress:', layout=Layout(height='25px', width='50%'),…"
      ]
     },
     "metadata": {},
     "output_type": "display_data"
    }
   ],
   "source": [
    "from pyspark.sql import SQLContext\n",
    "from pyspark.sql import functions as f"
   ]
  },
  {
   "cell_type": "code",
   "execution_count": 4,
   "id": "c1a00648-966f-46d4-a8e8-e9b79f47de20",
   "metadata": {
    "execution": {
     "iopub.execute_input": "2022-10-15T00:21:33.091214Z",
     "iopub.status.busy": "2022-10-15T00:21:33.090991Z",
     "iopub.status.idle": "2022-10-15T00:21:33.172013Z",
     "shell.execute_reply": "2022-10-15T00:21:33.171286Z",
     "shell.execute_reply.started": "2022-10-15T00:21:33.091189Z"
    },
    "tags": []
   },
   "outputs": [
    {
     "data": {
      "application/vnd.jupyter.widget-view+json": {
       "model_id": "3a1095f714684155b7d7b39554bce6e6",
       "version_major": 2,
       "version_minor": 0
      },
      "text/plain": [
       "VBox()"
      ]
     },
     "metadata": {},
     "output_type": "display_data"
    },
    {
     "data": {
      "application/vnd.jupyter.widget-view+json": {
       "model_id": "",
       "version_major": 2,
       "version_minor": 0
      },
      "text/plain": [
       "FloatProgress(value=0.0, bar_style='info', description='Progress:', layout=Layout(height='25px', width='50%'),…"
      ]
     },
     "metadata": {},
     "output_type": "display_data"
    }
   ],
   "source": [
    "sql_context = SQLContext(sc)"
   ]
  },
  {
   "cell_type": "code",
   "execution_count": 8,
   "id": "d20e8528-ee01-4f92-89c2-18c4c2577232",
   "metadata": {
    "execution": {
     "iopub.execute_input": "2022-10-15T00:36:36.901363Z",
     "iopub.status.busy": "2022-10-15T00:36:36.901129Z",
     "iopub.status.idle": "2022-10-15T00:36:37.690511Z",
     "shell.execute_reply": "2022-10-15T00:36:37.689876Z",
     "shell.execute_reply.started": "2022-10-15T00:36:36.901334Z"
    },
    "tags": []
   },
   "outputs": [
    {
     "data": {
      "application/vnd.jupyter.widget-view+json": {
       "model_id": "ce38d42599004980b3c6ebb0a1b4d067",
       "version_major": 2,
       "version_minor": 0
      },
      "text/plain": [
       "VBox()"
      ]
     },
     "metadata": {},
     "output_type": "display_data"
    },
    {
     "data": {
      "application/vnd.jupyter.widget-view+json": {
       "model_id": "",
       "version_major": 2,
       "version_minor": 0
      },
      "text/plain": [
       "FloatProgress(value=0.0, bar_style='info', description='Progress:', layout=Layout(height='25px', width='50%'),…"
      ]
     },
     "metadata": {},
     "output_type": "display_data"
    }
   ],
   "source": [
    "df1 = sql_context.read.parquet(\"s3://nyc-tlc/trip data/fhv*2017*\",)"
   ]
  },
  {
   "cell_type": "code",
   "execution_count": 9,
   "id": "147e55e2-90db-41ac-9bc3-b4aed8ad5e8e",
   "metadata": {
    "execution": {
     "iopub.execute_input": "2022-10-15T00:36:46.841291Z",
     "iopub.status.busy": "2022-10-15T00:36:46.841055Z",
     "iopub.status.idle": "2022-10-15T00:36:47.632023Z",
     "shell.execute_reply": "2022-10-15T00:36:47.631040Z",
     "shell.execute_reply.started": "2022-10-15T00:36:46.841264Z"
    },
    "tags": []
   },
   "outputs": [
    {
     "data": {
      "application/vnd.jupyter.widget-view+json": {
       "model_id": "f1fd372882b2459d8aa6168ce7a9367b",
       "version_major": 2,
       "version_minor": 0
      },
      "text/plain": [
       "VBox()"
      ]
     },
     "metadata": {},
     "output_type": "display_data"
    },
    {
     "data": {
      "application/vnd.jupyter.widget-view+json": {
       "model_id": "",
       "version_major": 2,
       "version_minor": 0
      },
      "text/plain": [
       "FloatProgress(value=0.0, bar_style='info', description='Progress:', layout=Layout(height='25px', width='50%'),…"
      ]
     },
     "metadata": {},
     "output_type": "display_data"
    }
   ],
   "source": [
    "df2 = sql_context.read.parquet(\"s3://nyc-tlc/trip data/fhv*2018*\",)"
   ]
  },
  {
   "cell_type": "code",
   "execution_count": 11,
   "id": "39ec465c-0ccf-4746-8511-6eef9a4f7c90",
   "metadata": {
    "execution": {
     "iopub.execute_input": "2022-10-15T00:38:19.748844Z",
     "iopub.status.busy": "2022-10-15T00:38:19.748564Z",
     "iopub.status.idle": "2022-10-15T00:38:20.039169Z",
     "shell.execute_reply": "2022-10-15T00:38:20.038475Z",
     "shell.execute_reply.started": "2022-10-15T00:38:19.748817Z"
    },
    "tags": []
   },
   "outputs": [
    {
     "data": {
      "application/vnd.jupyter.widget-view+json": {
       "model_id": "68a799e329f54822a8accac6cc675abf",
       "version_major": 2,
       "version_minor": 0
      },
      "text/plain": [
       "VBox()"
      ]
     },
     "metadata": {},
     "output_type": "display_data"
    },
    {
     "data": {
      "application/vnd.jupyter.widget-view+json": {
       "model_id": "",
       "version_major": 2,
       "version_minor": 0
      },
      "text/plain": [
       "FloatProgress(value=0.0, bar_style='info', description='Progress:', layout=Layout(height='25px', width='50%'),…"
      ]
     },
     "metadata": {},
     "output_type": "display_data"
    }
   ],
   "source": [
    "df = df1.union(df2)"
   ]
  },
  {
   "cell_type": "code",
   "execution_count": 12,
   "id": "fec90046-44c8-42e0-bdb3-a9869794e2c8",
   "metadata": {
    "execution": {
     "iopub.execute_input": "2022-10-15T00:38:27.396379Z",
     "iopub.status.busy": "2022-10-15T00:38:27.396133Z",
     "iopub.status.idle": "2022-10-15T00:38:38.738008Z",
     "shell.execute_reply": "2022-10-15T00:38:38.737271Z",
     "shell.execute_reply.started": "2022-10-15T00:38:27.396353Z"
    },
    "tags": []
   },
   "outputs": [
    {
     "data": {
      "application/vnd.jupyter.widget-view+json": {
       "model_id": "b8ae70e1914c4e8392b976a4bb03024a",
       "version_major": 2,
       "version_minor": 0
      },
      "text/plain": [
       "VBox()"
      ]
     },
     "metadata": {},
     "output_type": "display_data"
    },
    {
     "data": {
      "application/vnd.jupyter.widget-view+json": {
       "model_id": "",
       "version_major": 2,
       "version_minor": 0
      },
      "text/plain": [
       "FloatProgress(value=0.0, bar_style='info', description='Progress:', layout=Layout(height='25px', width='50%'),…"
      ]
     },
     "metadata": {},
     "output_type": "display_data"
    },
    {
     "name": "stdout",
     "output_type": "stream",
     "text": [
      "453184311"
     ]
    }
   ],
   "source": [
    "df.count()"
   ]
  },
  {
   "cell_type": "code",
   "execution_count": 13,
   "id": "c210252d-548d-413f-923b-f27d46f47aef",
   "metadata": {
    "execution": {
     "iopub.execute_input": "2022-10-15T00:39:35.446141Z",
     "iopub.status.busy": "2022-10-15T00:39:35.445896Z",
     "iopub.status.idle": "2022-10-15T00:39:38.756126Z",
     "shell.execute_reply": "2022-10-15T00:39:38.755474Z",
     "shell.execute_reply.started": "2022-10-15T00:39:35.446107Z"
    },
    "tags": []
   },
   "outputs": [
    {
     "data": {
      "application/vnd.jupyter.widget-view+json": {
       "model_id": "b00ad227cb7646b6b6f64235c7d2f8f6",
       "version_major": 2,
       "version_minor": 0
      },
      "text/plain": [
       "VBox()"
      ]
     },
     "metadata": {},
     "output_type": "display_data"
    },
    {
     "data": {
      "application/vnd.jupyter.widget-view+json": {
       "model_id": "",
       "version_major": 2,
       "version_minor": 0
      },
      "text/plain": [
       "FloatProgress(value=0.0, bar_style='info', description='Progress:', layout=Layout(height='25px', width='50%'),…"
      ]
     },
     "metadata": {},
     "output_type": "display_data"
    },
    {
     "name": "stdout",
     "output_type": "stream",
     "text": [
      "+--------------------+-------------------+-------------------+------------+------------+-------+----------------------+\n",
      "|dispatching_base_num|    pickup_datetime|   dropOff_datetime|PUlocationID|DOlocationID|SR_Flag|Affiliated_base_number|\n",
      "+--------------------+-------------------+-------------------+------------+------------+-------+----------------------+\n",
      "|              B00001|2017-06-01 00:04:00|2017-06-07 01:55:36|        null|        null|   null|                      |\n",
      "|              B00001|2017-06-01 00:47:00|2017-06-09 01:25:40|        null|        null|   null|                      |\n",
      "|              B00001|2017-06-01 00:07:00|2017-06-15 00:52:17|        null|        null|   null|                      |\n",
      "|              B00001|2017-06-01 00:30:00|2017-06-03 02:18:52|        null|        null|   null|                      |\n",
      "|              B00001|2017-06-01 00:45:00|2017-06-10 01:49:42|        null|        null|   null|                      |\n",
      "|              B00001|2017-06-01 00:25:00|2017-06-19 00:58:48|        null|        null|   null|                      |\n",
      "|              B00013|2017-06-01 00:30:19|2017-06-01 00:33:34|        null|        null|   null|                B00013|\n",
      "|              B00013|2017-06-01 00:26:12|2017-06-02 00:27:45|        null|        null|   null|                B00013|\n",
      "|              B00014|2017-06-01 00:54:03|2017-06-01 01:18:57|        null|        null|   null|                B00014|\n",
      "|              B00014|2017-06-01 00:05:48|2017-06-02 00:06:12|        null|        null|   null|                B00014|\n",
      "|              B00014|2017-06-01 00:26:01|2017-06-02 00:29:38|        null|        null|   null|                B00014|\n",
      "|              B00014|2017-06-01 00:48:39|2017-06-01 00:48:47|        null|        null|   null|                B00014|\n",
      "|              B00014|2017-06-01 00:12:27|2017-06-01 00:51:24|        null|        null|   null|                B00014|\n",
      "|              B00014|2017-06-01 00:27:12|2017-06-01 00:27:26|        null|        null|   null|                B00014|\n",
      "|              B00014|2017-06-01 00:55:40|2017-06-01 01:20:56|        null|        null|   null|                B00014|\n",
      "|              B00014|2017-06-01 00:58:19|2017-06-01 01:04:04|        null|        null|   null|                B00014|\n",
      "|              B00014|2017-06-01 00:30:55|2017-06-01 00:31:18|        null|        null|   null|                B00014|\n",
      "|              B00021|2017-06-01 00:00:15|2017-06-01 00:05:42|       173.0|       173.0|   null|                B00021|\n",
      "|              B00021|2017-06-01 00:59:05|2017-06-01 01:37:26|        null|       121.0|   null|                B00021|\n",
      "|              B00021|2017-06-01 00:00:54|2017-06-01 00:07:00|        56.0|        56.0|   null|                B00021|\n",
      "+--------------------+-------------------+-------------------+------------+------------+-------+----------------------+\n",
      "only showing top 20 rows"
     ]
    }
   ],
   "source": [
    "df.show()"
   ]
  },
  {
   "cell_type": "code",
   "execution_count": 14,
   "id": "3d64ae91-e11e-487b-813d-41781a826cde",
   "metadata": {
    "execution": {
     "iopub.execute_input": "2022-10-15T00:40:15.030277Z",
     "iopub.status.busy": "2022-10-15T00:40:15.030037Z",
     "iopub.status.idle": "2022-10-15T00:40:15.095884Z",
     "shell.execute_reply": "2022-10-15T00:40:15.095137Z",
     "shell.execute_reply.started": "2022-10-15T00:40:15.030251Z"
    },
    "tags": []
   },
   "outputs": [
    {
     "data": {
      "application/vnd.jupyter.widget-view+json": {
       "model_id": "dd0ea0543fea4265a22f4937b7928244",
       "version_major": 2,
       "version_minor": 0
      },
      "text/plain": [
       "VBox()"
      ]
     },
     "metadata": {},
     "output_type": "display_data"
    },
    {
     "data": {
      "application/vnd.jupyter.widget-view+json": {
       "model_id": "",
       "version_major": 2,
       "version_minor": 0
      },
      "text/plain": [
       "FloatProgress(value=0.0, bar_style='info', description='Progress:', layout=Layout(height='25px', width='50%'),…"
      ]
     },
     "metadata": {},
     "output_type": "display_data"
    },
    {
     "name": "stdout",
     "output_type": "stream",
     "text": [
      "root\n",
      " |-- dispatching_base_num: string (nullable = true)\n",
      " |-- pickup_datetime: timestamp (nullable = true)\n",
      " |-- dropOff_datetime: timestamp (nullable = true)\n",
      " |-- PUlocationID: double (nullable = true)\n",
      " |-- DOlocationID: double (nullable = true)\n",
      " |-- SR_Flag: double (nullable = true)\n",
      " |-- Affiliated_base_number: string (nullable = true)"
     ]
    }
   ],
   "source": [
    "df.printSchema()"
   ]
  },
  {
   "cell_type": "code",
   "execution_count": 17,
   "id": "bf8272bc-968d-46e6-bcf8-ee22c8eb523b",
   "metadata": {
    "execution": {
     "iopub.execute_input": "2022-10-15T00:44:11.955012Z",
     "iopub.status.busy": "2022-10-15T00:44:11.954783Z",
     "iopub.status.idle": "2022-10-15T00:44:21.301275Z",
     "shell.execute_reply": "2022-10-15T00:44:21.300669Z",
     "shell.execute_reply.started": "2022-10-15T00:44:11.954987Z"
    },
    "tags": []
   },
   "outputs": [
    {
     "data": {
      "application/vnd.jupyter.widget-view+json": {
       "model_id": "58c0acf1eaf746b4a77a38233e0de7ad",
       "version_major": 2,
       "version_minor": 0
      },
      "text/plain": [
       "VBox()"
      ]
     },
     "metadata": {},
     "output_type": "display_data"
    },
    {
     "data": {
      "application/vnd.jupyter.widget-view+json": {
       "model_id": "",
       "version_major": 2,
       "version_minor": 0
      },
      "text/plain": [
       "FloatProgress(value=0.0, bar_style='info', description='Progress:', layout=Layout(height='25px', width='50%'),…"
      ]
     },
     "metadata": {},
     "output_type": "display_data"
    }
   ],
   "source": [
    "df_zones = sql_context.read.csv(\"s3://nyc-tlc/misc/taxi _zone_lookup.csv\", header=True, inferSchema=True)"
   ]
  },
  {
   "cell_type": "code",
   "execution_count": 19,
   "id": "28594a7e-8adf-421d-9fde-3c9aaaddb79b",
   "metadata": {
    "execution": {
     "iopub.execute_input": "2022-10-15T00:45:10.916298Z",
     "iopub.status.busy": "2022-10-15T00:45:10.916058Z",
     "iopub.status.idle": "2022-10-15T00:45:11.190126Z",
     "shell.execute_reply": "2022-10-15T00:45:11.189432Z",
     "shell.execute_reply.started": "2022-10-15T00:45:10.916272Z"
    },
    "tags": []
   },
   "outputs": [
    {
     "data": {
      "application/vnd.jupyter.widget-view+json": {
       "model_id": "535a41875e3a48739a0d9f1e4a057d44",
       "version_major": 2,
       "version_minor": 0
      },
      "text/plain": [
       "VBox()"
      ]
     },
     "metadata": {},
     "output_type": "display_data"
    },
    {
     "data": {
      "application/vnd.jupyter.widget-view+json": {
       "model_id": "",
       "version_major": 2,
       "version_minor": 0
      },
      "text/plain": [
       "FloatProgress(value=0.0, bar_style='info', description='Progress:', layout=Layout(height='25px', width='50%'),…"
      ]
     },
     "metadata": {},
     "output_type": "display_data"
    },
    {
     "name": "stdout",
     "output_type": "stream",
     "text": [
      "+----------+-------------+--------------------+------------+\n",
      "|LocationID|      Borough|                Zone|service_zone|\n",
      "+----------+-------------+--------------------+------------+\n",
      "|         1|          EWR|      Newark Airport|         EWR|\n",
      "|         2|       Queens|         Jamaica Bay|   Boro Zone|\n",
      "|         3|        Bronx|Allerton/Pelham G...|   Boro Zone|\n",
      "|         4|    Manhattan|       Alphabet City| Yellow Zone|\n",
      "|         5|Staten Island|       Arden Heights|   Boro Zone|\n",
      "|         6|Staten Island|Arrochar/Fort Wad...|   Boro Zone|\n",
      "|         7|       Queens|             Astoria|   Boro Zone|\n",
      "|         8|       Queens|        Astoria Park|   Boro Zone|\n",
      "|         9|       Queens|          Auburndale|   Boro Zone|\n",
      "|        10|       Queens|        Baisley Park|   Boro Zone|\n",
      "|        11|     Brooklyn|          Bath Beach|   Boro Zone|\n",
      "|        12|    Manhattan|        Battery Park| Yellow Zone|\n",
      "|        13|    Manhattan|   Battery Park City| Yellow Zone|\n",
      "|        14|     Brooklyn|           Bay Ridge|   Boro Zone|\n",
      "|        15|       Queens|Bay Terrace/Fort ...|   Boro Zone|\n",
      "|        16|       Queens|             Bayside|   Boro Zone|\n",
      "|        17|     Brooklyn|             Bedford|   Boro Zone|\n",
      "|        18|        Bronx|        Bedford Park|   Boro Zone|\n",
      "|        19|       Queens|           Bellerose|   Boro Zone|\n",
      "|        20|        Bronx|             Belmont|   Boro Zone|\n",
      "+----------+-------------+--------------------+------------+\n",
      "only showing top 20 rows"
     ]
    }
   ],
   "source": [
    "df_zones.show()"
   ]
  },
  {
   "cell_type": "code",
   "execution_count": 21,
   "id": "d4420746-db23-4a43-b9fb-dd5832c50fde",
   "metadata": {
    "execution": {
     "iopub.execute_input": "2022-10-15T00:45:27.960390Z",
     "iopub.status.busy": "2022-10-15T00:45:27.960162Z",
     "iopub.status.idle": "2022-10-15T00:45:28.021268Z",
     "shell.execute_reply": "2022-10-15T00:45:28.020550Z",
     "shell.execute_reply.started": "2022-10-15T00:45:27.960366Z"
    },
    "tags": []
   },
   "outputs": [
    {
     "data": {
      "application/vnd.jupyter.widget-view+json": {
       "model_id": "cbe7cf50c7cb42b7ad80026abbbaaaaf",
       "version_major": 2,
       "version_minor": 0
      },
      "text/plain": [
       "VBox()"
      ]
     },
     "metadata": {},
     "output_type": "display_data"
    },
    {
     "data": {
      "application/vnd.jupyter.widget-view+json": {
       "model_id": "",
       "version_major": 2,
       "version_minor": 0
      },
      "text/plain": [
       "FloatProgress(value=0.0, bar_style='info', description='Progress:', layout=Layout(height='25px', width='50%'),…"
      ]
     },
     "metadata": {},
     "output_type": "display_data"
    },
    {
     "name": "stdout",
     "output_type": "stream",
     "text": [
      "root\n",
      " |-- LocationID: integer (nullable = true)\n",
      " |-- Borough: string (nullable = true)\n",
      " |-- Zone: string (nullable = true)\n",
      " |-- service_zone: string (nullable = true)"
     ]
    }
   ],
   "source": [
    "df_zones.printSchema()"
   ]
  },
  {
   "cell_type": "code",
   "execution_count": 32,
   "id": "3375f6df-d77a-480c-bf99-a99f1997367e",
   "metadata": {
    "execution": {
     "iopub.execute_input": "2022-10-15T00:57:18.945642Z",
     "iopub.status.busy": "2022-10-15T00:57:18.945414Z",
     "iopub.status.idle": "2022-10-15T00:57:19.014664Z",
     "shell.execute_reply": "2022-10-15T00:57:19.013908Z",
     "shell.execute_reply.started": "2022-10-15T00:57:18.945617Z"
    },
    "tags": []
   },
   "outputs": [
    {
     "data": {
      "application/vnd.jupyter.widget-view+json": {
       "model_id": "8be88e7d078f463a863c556ac313b6b4",
       "version_major": 2,
       "version_minor": 0
      },
      "text/plain": [
       "VBox()"
      ]
     },
     "metadata": {},
     "output_type": "display_data"
    },
    {
     "data": {
      "application/vnd.jupyter.widget-view+json": {
       "model_id": "",
       "version_major": 2,
       "version_minor": 0
      },
      "text/plain": [
       "FloatProgress(value=0.0, bar_style='info', description='Progress:', layout=Layout(height='25px', width='50%'),…"
      ]
     },
     "metadata": {},
     "output_type": "display_data"
    }
   ],
   "source": [
    "df3 = df.join(df_zones, df.PUlocationID==df_zones.LocationID, how=\"inner\").\\\n",
    "select(\"pickup_datetime\",\"dropOff_datetime\",\"DOlocationID\", df_zones.Zone.alias(\"PUZone\"))"
   ]
  },
  {
   "cell_type": "code",
   "execution_count": 34,
   "id": "7d7c7381-80e7-4e20-a08f-64d4e876e3a2",
   "metadata": {
    "execution": {
     "iopub.execute_input": "2022-10-15T00:58:16.320287Z",
     "iopub.status.busy": "2022-10-15T00:58:16.320033Z",
     "iopub.status.idle": "2022-10-15T00:58:31.647196Z",
     "shell.execute_reply": "2022-10-15T00:58:31.646436Z",
     "shell.execute_reply.started": "2022-10-15T00:58:16.320258Z"
    },
    "tags": []
   },
   "outputs": [
    {
     "data": {
      "application/vnd.jupyter.widget-view+json": {
       "model_id": "8a536e85c5c54601b93aff725c0fe1c3",
       "version_major": 2,
       "version_minor": 0
      },
      "text/plain": [
       "VBox()"
      ]
     },
     "metadata": {},
     "output_type": "display_data"
    },
    {
     "data": {
      "application/vnd.jupyter.widget-view+json": {
       "model_id": "",
       "version_major": 2,
       "version_minor": 0
      },
      "text/plain": [
       "FloatProgress(value=0.0, bar_style='info', description='Progress:', layout=Layout(height='25px', width='50%'),…"
      ]
     },
     "metadata": {},
     "output_type": "display_data"
    },
    {
     "name": "stdout",
     "output_type": "stream",
     "text": [
      "373840936"
     ]
    }
   ],
   "source": [
    "df3.count()#(left)453184311 #(inner)373840936"
   ]
  },
  {
   "cell_type": "code",
   "execution_count": 37,
   "id": "ea2e150d-ab09-455b-a5da-5bcfb5ce8499",
   "metadata": {
    "execution": {
     "iopub.execute_input": "2022-10-15T00:59:58.230951Z",
     "iopub.status.busy": "2022-10-15T00:59:58.230725Z",
     "iopub.status.idle": "2022-10-15T00:59:58.497752Z",
     "shell.execute_reply": "2022-10-15T00:59:58.497110Z",
     "shell.execute_reply.started": "2022-10-15T00:59:58.230926Z"
    },
    "tags": []
   },
   "outputs": [
    {
     "data": {
      "application/vnd.jupyter.widget-view+json": {
       "model_id": "8dd2814271fa4fcfa25466d5ed7fa515",
       "version_major": 2,
       "version_minor": 0
      },
      "text/plain": [
       "VBox()"
      ]
     },
     "metadata": {},
     "output_type": "display_data"
    },
    {
     "data": {
      "application/vnd.jupyter.widget-view+json": {
       "model_id": "",
       "version_major": 2,
       "version_minor": 0
      },
      "text/plain": [
       "FloatProgress(value=0.0, bar_style='info', description='Progress:', layout=Layout(height='25px', width='50%'),…"
      ]
     },
     "metadata": {},
     "output_type": "display_data"
    }
   ],
   "source": [
    "df4 = df3.join(df_zones, df3.DOlocationID==df_zones.LocationID, how=\"inner\").\\\n",
    "select(\"pickup_datetime\",\"dropOff_datetime\",\"PUZone\", df_zones.Zone.alias(\"DOZone\"))"
   ]
  },
  {
   "cell_type": "code",
   "execution_count": 38,
   "id": "51396b0e-d41d-4e82-aa92-79f054be53b3",
   "metadata": {
    "execution": {
     "iopub.execute_input": "2022-10-15T01:00:13.526407Z",
     "iopub.status.busy": "2022-10-15T01:00:13.526170Z",
     "iopub.status.idle": "2022-10-15T01:00:22.840717Z",
     "shell.execute_reply": "2022-10-15T01:00:22.839989Z",
     "shell.execute_reply.started": "2022-10-15T01:00:13.526381Z"
    },
    "tags": []
   },
   "outputs": [
    {
     "data": {
      "application/vnd.jupyter.widget-view+json": {
       "model_id": "0f9d9e184c3d47ddb81c132ff5103e49",
       "version_major": 2,
       "version_minor": 0
      },
      "text/plain": [
       "VBox()"
      ]
     },
     "metadata": {},
     "output_type": "display_data"
    },
    {
     "data": {
      "application/vnd.jupyter.widget-view+json": {
       "model_id": "",
       "version_major": 2,
       "version_minor": 0
      },
      "text/plain": [
       "FloatProgress(value=0.0, bar_style='info', description='Progress:', layout=Layout(height='25px', width='50%'),…"
      ]
     },
     "metadata": {},
     "output_type": "display_data"
    },
    {
     "name": "stdout",
     "output_type": "stream",
     "text": [
      "+-------------------+-------------------+------------+------------+\n",
      "|    pickup_datetime|   dropOff_datetime|      PUZone|      DOZone|\n",
      "+-------------------+-------------------+------------+------------+\n",
      "|2017-06-01 00:00:15|2017-06-01 00:05:42|North Corona|North Corona|\n",
      "|2017-06-01 00:00:54|2017-06-01 00:07:00|      Corona|      Corona|\n",
      "|2017-06-01 00:45:37|2017-06-01 01:01:52|    Woodside|    Elmhurst|\n",
      "|2017-06-01 00:41:31|2017-06-01 01:27:57|   Rego Park|      Corona|\n",
      "|2017-06-01 00:23:36|2017-06-01 00:34:24|      Corona|      Corona|\n",
      "+-------------------+-------------------+------------+------------+\n",
      "only showing top 5 rows"
     ]
    }
   ],
   "source": [
    "df4.show(5)"
   ]
  },
  {
   "cell_type": "code",
   "execution_count": 40,
   "id": "f537b692-6846-4b48-be75-b63a5ba2bc85",
   "metadata": {
    "execution": {
     "iopub.execute_input": "2022-10-15T01:06:20.446790Z",
     "iopub.status.busy": "2022-10-15T01:06:20.446544Z",
     "iopub.status.idle": "2022-10-15T01:06:20.512545Z",
     "shell.execute_reply": "2022-10-15T01:06:20.511942Z",
     "shell.execute_reply.started": "2022-10-15T01:06:20.446755Z"
    },
    "tags": []
   },
   "outputs": [
    {
     "data": {
      "application/vnd.jupyter.widget-view+json": {
       "model_id": "e0a9b1f944f749a98fffb3ff2eb0d049",
       "version_major": 2,
       "version_minor": 0
      },
      "text/plain": [
       "VBox()"
      ]
     },
     "metadata": {},
     "output_type": "display_data"
    },
    {
     "data": {
      "application/vnd.jupyter.widget-view+json": {
       "model_id": "",
       "version_major": 2,
       "version_minor": 0
      },
      "text/plain": [
       "FloatProgress(value=0.0, bar_style='info', description='Progress:', layout=Layout(height='25px', width='50%'),…"
      ]
     },
     "metadata": {},
     "output_type": "display_data"
    },
    {
     "name": "stdout",
     "output_type": "stream",
     "text": [
      "root\n",
      " |-- pickup_datetime: timestamp (nullable = true)\n",
      " |-- dropOff_datetime: timestamp (nullable = true)\n",
      " |-- PUZone: string (nullable = true)\n",
      " |-- DOZone: string (nullable = true)"
     ]
    }
   ],
   "source": [
    "df4.printSchema()"
   ]
  },
  {
   "cell_type": "code",
   "execution_count": 49,
   "id": "c6f1d201-1464-4b0f-91d1-fc46f9b4ed61",
   "metadata": {
    "execution": {
     "iopub.execute_input": "2022-10-15T01:25:14.103161Z",
     "iopub.status.busy": "2022-10-15T01:25:14.102908Z",
     "iopub.status.idle": "2022-10-15T01:25:14.364502Z",
     "shell.execute_reply": "2022-10-15T01:25:14.363828Z",
     "shell.execute_reply.started": "2022-10-15T01:25:14.103134Z"
    },
    "tags": []
   },
   "outputs": [
    {
     "data": {
      "application/vnd.jupyter.widget-view+json": {
       "model_id": "6fd07195437040738ff6bab792d1f56b",
       "version_major": 2,
       "version_minor": 0
      },
      "text/plain": [
       "VBox()"
      ]
     },
     "metadata": {},
     "output_type": "display_data"
    },
    {
     "data": {
      "application/vnd.jupyter.widget-view+json": {
       "model_id": "",
       "version_major": 2,
       "version_minor": 0
      },
      "text/plain": [
       "FloatProgress(value=0.0, bar_style='info', description='Progress:', layout=Layout(height='25px', width='50%'),…"
      ]
     },
     "metadata": {},
     "output_type": "display_data"
    }
   ],
   "source": [
    "df5 = df4.select(\"dropOff_datetime\",\"pickup_datetime\",\"PUZone\",\"DOZone\",((df4.dropOff_datetime.cast(\"long\")-df4.pickup_datetime.cast(\"long\"))/60).alias(\"time\"))"
   ]
  },
  {
   "cell_type": "code",
   "execution_count": 51,
   "id": "d03e72c9-3722-426f-a2c5-5887cd95d53b",
   "metadata": {
    "execution": {
     "iopub.execute_input": "2022-10-15T01:27:35.626765Z",
     "iopub.status.busy": "2022-10-15T01:27:35.626510Z",
     "iopub.status.idle": "2022-10-15T01:28:31.084274Z",
     "shell.execute_reply": "2022-10-15T01:28:31.083425Z",
     "shell.execute_reply.started": "2022-10-15T01:27:35.626731Z"
    },
    "tags": []
   },
   "outputs": [
    {
     "data": {
      "application/vnd.jupyter.widget-view+json": {
       "model_id": "e0b138e195364437b6050f2c5531b9b6",
       "version_major": 2,
       "version_minor": 0
      },
      "text/plain": [
       "VBox()"
      ]
     },
     "metadata": {},
     "output_type": "display_data"
    },
    {
     "data": {
      "application/vnd.jupyter.widget-view+json": {
       "model_id": "",
       "version_major": 2,
       "version_minor": 0
      },
      "text/plain": [
       "FloatProgress(value=0.0, bar_style='info', description='Progress:', layout=Layout(height='25px', width='50%'),…"
      ]
     },
     "metadata": {},
     "output_type": "display_data"
    },
    {
     "name": "stdout",
     "output_type": "stream",
     "text": [
      "+-------------------+-------------------+----------------+--------------+---------+\n",
      "|   dropOff_datetime|    pickup_datetime|          PUZone|        DOZone|     time|\n",
      "+-------------------+-------------------+----------------+--------------+---------+\n",
      "|2019-11-29 22:29:00|2017-11-29 20:59:00|  Newark Airport|            NA|1051290.0|\n",
      "|2019-09-21 01:50:00|2018-09-20 00:30:00|              NV|            NV| 527120.0|\n",
      "|2019-09-21 02:30:00|2018-09-20 01:45:00|              NV|            NV| 527085.0|\n",
      "|2019-09-20 17:15:00|2018-09-20 13:45:00|              NV|            NV| 525810.0|\n",
      "|2019-09-20 18:15:00|2018-09-20 15:15:00|              NV|            NV| 525780.0|\n",
      "|2019-09-20 19:30:00|2018-09-20 16:30:00|              NV|            NV| 525780.0|\n",
      "|2019-09-20 18:00:00|2018-09-20 15:00:00|              NV|            NV| 525780.0|\n",
      "|2019-09-20 18:30:00|2018-09-20 15:30:00|              NV|            NV| 525780.0|\n",
      "|2019-09-20 19:30:00|2018-09-20 16:30:00|              NV|            NV| 525780.0|\n",
      "|2019-09-20 15:30:00|2018-09-20 12:30:00|              NV|            NV| 525780.0|\n",
      "|2019-09-20 16:00:00|2018-09-20 14:00:00|              NV|            NV| 525720.0|\n",
      "|2019-11-30 14:00:00|2018-11-30 12:40:00|    Saint Albans|Bushwick South| 525680.0|\n",
      "|2019-10-22 10:25:00|2018-10-22 09:16:00|              NV|            NV| 525669.0|\n",
      "|2019-10-24 22:02:00|2018-10-24 21:30:00|              NV|            NV| 525632.0|\n",
      "|2019-09-06 16:00:00|2018-09-06 15:30:00|Sunset Park West|Sheepshead Bay| 525630.0|\n",
      "|2019-07-16 16:30:00|2018-07-16 16:00:00|       Gravesend|  Borough Park| 525630.0|\n",
      "|2019-08-20 23:40:00|2018-08-20 23:11:00|              NV|            NV| 525629.0|\n",
      "|2019-12-09 11:20:00|2018-12-09 10:53:00|              NV|            NV| 525627.0|\n",
      "|2019-12-13 14:40:31|2018-12-13 14:22:04|              NV|            NA|525618.45|\n",
      "|2019-05-24 03:38:49|2018-05-24 03:28:49|    Baisley Park|            NV| 525610.0|\n",
      "+-------------------+-------------------+----------------+--------------+---------+\n",
      "only showing top 20 rows"
     ]
    }
   ],
   "source": [
    "df5.orderBy(df5.time.desc()).show()"
   ]
  },
  {
   "cell_type": "code",
   "execution_count": 64,
   "id": "eeebd886-3901-49a6-812f-8d00141839ab",
   "metadata": {
    "execution": {
     "iopub.execute_input": "2022-10-15T01:45:25.159883Z",
     "iopub.status.busy": "2022-10-15T01:45:25.159660Z",
     "iopub.status.idle": "2022-10-15T01:45:48.505240Z",
     "shell.execute_reply": "2022-10-15T01:45:48.504452Z",
     "shell.execute_reply.started": "2022-10-15T01:45:25.159858Z"
    },
    "tags": []
   },
   "outputs": [
    {
     "data": {
      "application/vnd.jupyter.widget-view+json": {
       "model_id": "686350f0bf4c41db9de75eb16f78d772",
       "version_major": 2,
       "version_minor": 0
      },
      "text/plain": [
       "VBox()"
      ]
     },
     "metadata": {},
     "output_type": "display_data"
    },
    {
     "data": {
      "application/vnd.jupyter.widget-view+json": {
       "model_id": "",
       "version_major": 2,
       "version_minor": 0
      },
      "text/plain": [
       "FloatProgress(value=0.0, bar_style='info', description='Progress:', layout=Layout(height='25px', width='50%'),…"
      ]
     },
     "metadata": {},
     "output_type": "display_data"
    },
    {
     "name": "stdout",
     "output_type": "stream",
     "text": [
      "+-----------------+\n",
      "|        avg(time)|\n",
      "+-----------------+\n",
      "|307.3221455351057|\n",
      "+-----------------+"
     ]
    }
   ],
   "source": [
    "# tiempo promedio viaje\n",
    "#Saint Albans|Bushwick South\n",
    "df5.where(\"PUZone == 'Saint Albans' and DOZone == 'Bushwick South'\").select(f.avg(\"time\")).show()"
   ]
  }
 ],
 "metadata": {
  "kernelspec": {
   "display_name": "PySpark",
   "language": "python",
   "name": "pysparkkernel"
  },
  "language_info": {
   "codemirror_mode": {
    "name": "python",
    "version": 3
   },
   "file_extension": ".py",
   "mimetype": "text/x-python",
   "name": "pyspark",
   "pygments_lexer": "python3"
  }
 },
 "nbformat": 4,
 "nbformat_minor": 5
}
